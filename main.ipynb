{
 "cells": [
  {
   "cell_type": "code",
   "execution_count": 4,
   "metadata": {},
   "outputs": [
    {
     "name": "stdout",
     "output_type": "stream",
     "text": [
      "Original matrix: [[1 2 3]\n",
      " [4 5 6]]\n",
      "Reshaped 1D array: [1 2 3 4 5 6]\n",
      "Mean of 1D array: 3.5\n",
      "Standard deviation of 1D array: 1.707825127659933\n",
      "Reshaped 2D matrix: [[1 2 3]\n",
      " [4 5 6]]\n",
      "Element-wise multiplied matrix: [[ 1  4  9]\n",
      " [16 25 36]]\n",
      "Sum of all elements in element-wise multiplied matrix: 91\n"
     ]
    }
   ],
   "source": [
    "import numpy as np \n",
    "matrix = np.array([[1, 2, 3], [4, 5, 6]])\n",
    "\n",
    "matrix_1d = matrix.reshape(-1)\n",
    "\n",
    "\n",
    "mean_1d = np.mean(matrix_1d)\n",
    "\n",
    "\n",
    "std_1d = np.std(matrix_1d)\n",
    "\n",
    "\n",
    "matrix_2d = matrix_1d.reshape(matrix.shape[0], matrix.shape[1])\n",
    "\n",
    "\n",
    "mult_matrix = np.multiply(matrix, matrix_2d)\n",
    "\n",
    "\n",
    "sum_mult_matrix = np.sum(mult_matrix)\n",
    "\n",
    "\n",
    "print(f\"Original matrix: {matrix}\")\n",
    "print(f\"Reshaped 1D array: {matrix_1d}\")\n",
    "print(f\"Mean of 1D array: {mean_1d}\")\n",
    "print(f\"Standard deviation of 1D array: {std_1d}\")\n",
    "print(f\"Reshaped 2D matrix: {matrix_2d}\")\n",
    "print(f\"Element-wise multiplied matrix: {mult_matrix}\")\n",
    "print(f\"Sum of all elements in element-wise multiplied matrix: {sum_mult_matrix}\")"
   ]
  },
  {
   "cell_type": "code",
   "execution_count": null,
   "metadata": {},
   "outputs": [],
   "source": []
  }
 ],
 "metadata": {
  "kernelspec": {
   "display_name": "base",
   "language": "python",
   "name": "python3"
  },
  "language_info": {
   "codemirror_mode": {
    "name": "ipython",
    "version": 3
   },
   "file_extension": ".py",
   "mimetype": "text/x-python",
   "name": "python",
   "nbconvert_exporter": "python",
   "pygments_lexer": "ipython3",
   "version": "3.9.12"
  },
  "orig_nbformat": 4
 },
 "nbformat": 4,
 "nbformat_minor": 2
}
